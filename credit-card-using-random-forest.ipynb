{
 "cells": [
  {
   "cell_type": "code",
   "execution_count": 1,
   "id": "8ff664b7",
   "metadata": {
    "_cell_guid": "b1076dfc-b9ad-4769-8c92-a6c4dae69d19",
    "_uuid": "8f2839f25d086af736a60e9eeb907d3b93b6e0e5",
    "execution": {
     "iopub.execute_input": "2024-09-05T09:19:11.520608Z",
     "iopub.status.busy": "2024-09-05T09:19:11.520170Z",
     "iopub.status.idle": "2024-09-05T09:19:11.939469Z",
     "shell.execute_reply": "2024-09-05T09:19:11.937823Z"
    },
    "papermill": {
     "duration": 0.43073,
     "end_time": "2024-09-05T09:19:11.942783",
     "exception": false,
     "start_time": "2024-09-05T09:19:11.512053",
     "status": "completed"
    },
    "tags": []
   },
   "outputs": [
    {
     "name": "stdout",
     "output_type": "stream",
     "text": [
      "/kaggle/input/creditcardfraud/creditcard.csv\n"
     ]
    }
   ],
   "source": [
    "# This Python 3 environment comes with many helpful analytics libraries installed\n",
    "# It is defined by the kaggle/python Docker image: https://github.com/kaggle/docker-python\n",
    "# For example, here's several helpful packages to load\n",
    "\n",
    "import numpy as np # linear algebra\n",
    "import pandas as pd # data processing, CSV file I/O (e.g. pd.read_csv)\n",
    "\n",
    "# Input data files are available in the read-only \"../input/\" directory\n",
    "# For example, running this (by clicking run or pressing Shift+Enter) will list all files under the input directory\n",
    "\n",
    "import os\n",
    "for dirname, _, filenames in os.walk('/kaggle/input'):\n",
    "    for filename in filenames:\n",
    "        print(os.path.join(dirname, filename))\n",
    "\n",
    "# You can write up to 20GB to the current directory (/kaggle/working/) that gets preserved as output when you create a version using \"Save & Run All\" \n",
    "# You can also write temporary files to /kaggle/temp/, but they won't be saved outside of the current session"
   ]
  },
  {
   "cell_type": "code",
   "execution_count": 2,
   "id": "3bec88c2",
   "metadata": {
    "execution": {
     "iopub.execute_input": "2024-09-05T09:19:11.958351Z",
     "iopub.status.busy": "2024-09-05T09:19:11.957493Z",
     "iopub.status.idle": "2024-09-05T09:19:15.852822Z",
     "shell.execute_reply": "2024-09-05T09:19:15.851512Z"
    },
    "papermill": {
     "duration": 3.905784,
     "end_time": "2024-09-05T09:19:15.855504",
     "exception": false,
     "start_time": "2024-09-05T09:19:11.949720",
     "status": "completed"
    },
    "tags": []
   },
   "outputs": [
    {
     "data": {
      "text/html": [
       "<div>\n",
       "<style scoped>\n",
       "    .dataframe tbody tr th:only-of-type {\n",
       "        vertical-align: middle;\n",
       "    }\n",
       "\n",
       "    .dataframe tbody tr th {\n",
       "        vertical-align: top;\n",
       "    }\n",
       "\n",
       "    .dataframe thead th {\n",
       "        text-align: right;\n",
       "    }\n",
       "</style>\n",
       "<table border=\"1\" class=\"dataframe\">\n",
       "  <thead>\n",
       "    <tr style=\"text-align: right;\">\n",
       "      <th></th>\n",
       "      <th>Time</th>\n",
       "      <th>V1</th>\n",
       "      <th>V2</th>\n",
       "      <th>V3</th>\n",
       "      <th>V4</th>\n",
       "      <th>V5</th>\n",
       "      <th>V6</th>\n",
       "      <th>V7</th>\n",
       "      <th>V8</th>\n",
       "      <th>V9</th>\n",
       "      <th>...</th>\n",
       "      <th>V21</th>\n",
       "      <th>V22</th>\n",
       "      <th>V23</th>\n",
       "      <th>V24</th>\n",
       "      <th>V25</th>\n",
       "      <th>V26</th>\n",
       "      <th>V27</th>\n",
       "      <th>V28</th>\n",
       "      <th>Amount</th>\n",
       "      <th>Class</th>\n",
       "    </tr>\n",
       "  </thead>\n",
       "  <tbody>\n",
       "    <tr>\n",
       "      <th>0</th>\n",
       "      <td>0.0</td>\n",
       "      <td>-1.359807</td>\n",
       "      <td>-0.072781</td>\n",
       "      <td>2.536347</td>\n",
       "      <td>1.378155</td>\n",
       "      <td>-0.338321</td>\n",
       "      <td>0.462388</td>\n",
       "      <td>0.239599</td>\n",
       "      <td>0.098698</td>\n",
       "      <td>0.363787</td>\n",
       "      <td>...</td>\n",
       "      <td>-0.018307</td>\n",
       "      <td>0.277838</td>\n",
       "      <td>-0.110474</td>\n",
       "      <td>0.066928</td>\n",
       "      <td>0.128539</td>\n",
       "      <td>-0.189115</td>\n",
       "      <td>0.133558</td>\n",
       "      <td>-0.021053</td>\n",
       "      <td>149.62</td>\n",
       "      <td>0</td>\n",
       "    </tr>\n",
       "    <tr>\n",
       "      <th>1</th>\n",
       "      <td>0.0</td>\n",
       "      <td>1.191857</td>\n",
       "      <td>0.266151</td>\n",
       "      <td>0.166480</td>\n",
       "      <td>0.448154</td>\n",
       "      <td>0.060018</td>\n",
       "      <td>-0.082361</td>\n",
       "      <td>-0.078803</td>\n",
       "      <td>0.085102</td>\n",
       "      <td>-0.255425</td>\n",
       "      <td>...</td>\n",
       "      <td>-0.225775</td>\n",
       "      <td>-0.638672</td>\n",
       "      <td>0.101288</td>\n",
       "      <td>-0.339846</td>\n",
       "      <td>0.167170</td>\n",
       "      <td>0.125895</td>\n",
       "      <td>-0.008983</td>\n",
       "      <td>0.014724</td>\n",
       "      <td>2.69</td>\n",
       "      <td>0</td>\n",
       "    </tr>\n",
       "    <tr>\n",
       "      <th>2</th>\n",
       "      <td>1.0</td>\n",
       "      <td>-1.358354</td>\n",
       "      <td>-1.340163</td>\n",
       "      <td>1.773209</td>\n",
       "      <td>0.379780</td>\n",
       "      <td>-0.503198</td>\n",
       "      <td>1.800499</td>\n",
       "      <td>0.791461</td>\n",
       "      <td>0.247676</td>\n",
       "      <td>-1.514654</td>\n",
       "      <td>...</td>\n",
       "      <td>0.247998</td>\n",
       "      <td>0.771679</td>\n",
       "      <td>0.909412</td>\n",
       "      <td>-0.689281</td>\n",
       "      <td>-0.327642</td>\n",
       "      <td>-0.139097</td>\n",
       "      <td>-0.055353</td>\n",
       "      <td>-0.059752</td>\n",
       "      <td>378.66</td>\n",
       "      <td>0</td>\n",
       "    </tr>\n",
       "    <tr>\n",
       "      <th>3</th>\n",
       "      <td>1.0</td>\n",
       "      <td>-0.966272</td>\n",
       "      <td>-0.185226</td>\n",
       "      <td>1.792993</td>\n",
       "      <td>-0.863291</td>\n",
       "      <td>-0.010309</td>\n",
       "      <td>1.247203</td>\n",
       "      <td>0.237609</td>\n",
       "      <td>0.377436</td>\n",
       "      <td>-1.387024</td>\n",
       "      <td>...</td>\n",
       "      <td>-0.108300</td>\n",
       "      <td>0.005274</td>\n",
       "      <td>-0.190321</td>\n",
       "      <td>-1.175575</td>\n",
       "      <td>0.647376</td>\n",
       "      <td>-0.221929</td>\n",
       "      <td>0.062723</td>\n",
       "      <td>0.061458</td>\n",
       "      <td>123.50</td>\n",
       "      <td>0</td>\n",
       "    </tr>\n",
       "    <tr>\n",
       "      <th>4</th>\n",
       "      <td>2.0</td>\n",
       "      <td>-1.158233</td>\n",
       "      <td>0.877737</td>\n",
       "      <td>1.548718</td>\n",
       "      <td>0.403034</td>\n",
       "      <td>-0.407193</td>\n",
       "      <td>0.095921</td>\n",
       "      <td>0.592941</td>\n",
       "      <td>-0.270533</td>\n",
       "      <td>0.817739</td>\n",
       "      <td>...</td>\n",
       "      <td>-0.009431</td>\n",
       "      <td>0.798278</td>\n",
       "      <td>-0.137458</td>\n",
       "      <td>0.141267</td>\n",
       "      <td>-0.206010</td>\n",
       "      <td>0.502292</td>\n",
       "      <td>0.219422</td>\n",
       "      <td>0.215153</td>\n",
       "      <td>69.99</td>\n",
       "      <td>0</td>\n",
       "    </tr>\n",
       "  </tbody>\n",
       "</table>\n",
       "<p>5 rows × 31 columns</p>\n",
       "</div>"
      ],
      "text/plain": [
       "   Time        V1        V2        V3        V4        V5        V6        V7  \\\n",
       "0   0.0 -1.359807 -0.072781  2.536347  1.378155 -0.338321  0.462388  0.239599   \n",
       "1   0.0  1.191857  0.266151  0.166480  0.448154  0.060018 -0.082361 -0.078803   \n",
       "2   1.0 -1.358354 -1.340163  1.773209  0.379780 -0.503198  1.800499  0.791461   \n",
       "3   1.0 -0.966272 -0.185226  1.792993 -0.863291 -0.010309  1.247203  0.237609   \n",
       "4   2.0 -1.158233  0.877737  1.548718  0.403034 -0.407193  0.095921  0.592941   \n",
       "\n",
       "         V8        V9  ...       V21       V22       V23       V24       V25  \\\n",
       "0  0.098698  0.363787  ... -0.018307  0.277838 -0.110474  0.066928  0.128539   \n",
       "1  0.085102 -0.255425  ... -0.225775 -0.638672  0.101288 -0.339846  0.167170   \n",
       "2  0.247676 -1.514654  ...  0.247998  0.771679  0.909412 -0.689281 -0.327642   \n",
       "3  0.377436 -1.387024  ... -0.108300  0.005274 -0.190321 -1.175575  0.647376   \n",
       "4 -0.270533  0.817739  ... -0.009431  0.798278 -0.137458  0.141267 -0.206010   \n",
       "\n",
       "        V26       V27       V28  Amount  Class  \n",
       "0 -0.189115  0.133558 -0.021053  149.62      0  \n",
       "1  0.125895 -0.008983  0.014724    2.69      0  \n",
       "2 -0.139097 -0.055353 -0.059752  378.66      0  \n",
       "3 -0.221929  0.062723  0.061458  123.50      0  \n",
       "4  0.502292  0.219422  0.215153   69.99      0  \n",
       "\n",
       "[5 rows x 31 columns]"
      ]
     },
     "execution_count": 2,
     "metadata": {},
     "output_type": "execute_result"
    }
   ],
   "source": [
    "# Load the Data\n",
    "df = pd.read_csv('/kaggle/input/creditcardfraud/creditcard.csv')\n",
    "df.head()"
   ]
  },
  {
   "cell_type": "markdown",
   "id": "20573af3",
   "metadata": {
    "papermill": {
     "duration": 0.005853,
     "end_time": "2024-09-05T09:19:15.867574",
     "exception": false,
     "start_time": "2024-09-05T09:19:15.861721",
     "status": "completed"
    },
    "tags": []
   },
   "source": [
    "## **Exploratory Data Analysis**"
   ]
  },
  {
   "cell_type": "code",
   "execution_count": 3,
   "id": "70421ddd",
   "metadata": {
    "execution": {
     "iopub.execute_input": "2024-09-05T09:19:15.881356Z",
     "iopub.status.busy": "2024-09-05T09:19:15.880952Z",
     "iopub.status.idle": "2024-09-05T09:19:15.938083Z",
     "shell.execute_reply": "2024-09-05T09:19:15.936536Z"
    },
    "papermill": {
     "duration": 0.067233,
     "end_time": "2024-09-05T09:19:15.940891",
     "exception": false,
     "start_time": "2024-09-05T09:19:15.873658",
     "status": "completed"
    },
    "tags": []
   },
   "outputs": [
    {
     "name": "stdout",
     "output_type": "stream",
     "text": [
      "Time      0\n",
      "V1        0\n",
      "V2        0\n",
      "V3        0\n",
      "V4        0\n",
      "V5        0\n",
      "V6        0\n",
      "V7        0\n",
      "V8        0\n",
      "V9        0\n",
      "V10       0\n",
      "V11       0\n",
      "V12       0\n",
      "V13       0\n",
      "V14       0\n",
      "V15       0\n",
      "V16       0\n",
      "V17       0\n",
      "V18       0\n",
      "V19       0\n",
      "V20       0\n",
      "V21       0\n",
      "V22       0\n",
      "V23       0\n",
      "V24       0\n",
      "V25       0\n",
      "V26       0\n",
      "V27       0\n",
      "V28       0\n",
      "Amount    0\n",
      "Class     0\n",
      "dtype: int64\n",
      "<class 'pandas.core.frame.DataFrame'>\n",
      "RangeIndex: 284807 entries, 0 to 284806\n",
      "Data columns (total 31 columns):\n",
      " #   Column  Non-Null Count   Dtype  \n",
      "---  ------  --------------   -----  \n",
      " 0   Time    284807 non-null  float64\n",
      " 1   V1      284807 non-null  float64\n",
      " 2   V2      284807 non-null  float64\n",
      " 3   V3      284807 non-null  float64\n",
      " 4   V4      284807 non-null  float64\n",
      " 5   V5      284807 non-null  float64\n",
      " 6   V6      284807 non-null  float64\n",
      " 7   V7      284807 non-null  float64\n",
      " 8   V8      284807 non-null  float64\n",
      " 9   V9      284807 non-null  float64\n",
      " 10  V10     284807 non-null  float64\n",
      " 11  V11     284807 non-null  float64\n",
      " 12  V12     284807 non-null  float64\n",
      " 13  V13     284807 non-null  float64\n",
      " 14  V14     284807 non-null  float64\n",
      " 15  V15     284807 non-null  float64\n",
      " 16  V16     284807 non-null  float64\n",
      " 17  V17     284807 non-null  float64\n",
      " 18  V18     284807 non-null  float64\n",
      " 19  V19     284807 non-null  float64\n",
      " 20  V20     284807 non-null  float64\n",
      " 21  V21     284807 non-null  float64\n",
      " 22  V22     284807 non-null  float64\n",
      " 23  V23     284807 non-null  float64\n",
      " 24  V24     284807 non-null  float64\n",
      " 25  V25     284807 non-null  float64\n",
      " 26  V26     284807 non-null  float64\n",
      " 27  V27     284807 non-null  float64\n",
      " 28  V28     284807 non-null  float64\n",
      " 29  Amount  284807 non-null  float64\n",
      " 30  Class   284807 non-null  int64  \n",
      "dtypes: float64(30), int64(1)\n",
      "memory usage: 67.4 MB\n",
      "None\n"
     ]
    }
   ],
   "source": [
    "# check for the missing data and data type\n",
    "\n",
    "print(df.isnull().sum())\n",
    "print(df.info())\n"
   ]
  },
  {
   "cell_type": "code",
   "execution_count": 4,
   "id": "40b41bb9",
   "metadata": {
    "execution": {
     "iopub.execute_input": "2024-09-05T09:19:15.955327Z",
     "iopub.status.busy": "2024-09-05T09:19:15.954933Z",
     "iopub.status.idle": "2024-09-05T09:19:16.431893Z",
     "shell.execute_reply": "2024-09-05T09:19:16.430562Z"
    },
    "papermill": {
     "duration": 0.48716,
     "end_time": "2024-09-05T09:19:16.434500",
     "exception": false,
     "start_time": "2024-09-05T09:19:15.947340",
     "status": "completed"
    },
    "tags": []
   },
   "outputs": [
    {
     "data": {
      "text/html": [
       "<div>\n",
       "<style scoped>\n",
       "    .dataframe tbody tr th:only-of-type {\n",
       "        vertical-align: middle;\n",
       "    }\n",
       "\n",
       "    .dataframe tbody tr th {\n",
       "        vertical-align: top;\n",
       "    }\n",
       "\n",
       "    .dataframe thead th {\n",
       "        text-align: right;\n",
       "    }\n",
       "</style>\n",
       "<table border=\"1\" class=\"dataframe\">\n",
       "  <thead>\n",
       "    <tr style=\"text-align: right;\">\n",
       "      <th></th>\n",
       "      <th>Time</th>\n",
       "      <th>V1</th>\n",
       "      <th>V2</th>\n",
       "      <th>V3</th>\n",
       "      <th>V4</th>\n",
       "      <th>V5</th>\n",
       "      <th>V6</th>\n",
       "      <th>V7</th>\n",
       "      <th>V8</th>\n",
       "      <th>V9</th>\n",
       "      <th>...</th>\n",
       "      <th>V21</th>\n",
       "      <th>V22</th>\n",
       "      <th>V23</th>\n",
       "      <th>V24</th>\n",
       "      <th>V25</th>\n",
       "      <th>V26</th>\n",
       "      <th>V27</th>\n",
       "      <th>V28</th>\n",
       "      <th>Amount</th>\n",
       "      <th>Class</th>\n",
       "    </tr>\n",
       "  </thead>\n",
       "  <tbody>\n",
       "    <tr>\n",
       "      <th>count</th>\n",
       "      <td>284807.000000</td>\n",
       "      <td>2.848070e+05</td>\n",
       "      <td>2.848070e+05</td>\n",
       "      <td>2.848070e+05</td>\n",
       "      <td>2.848070e+05</td>\n",
       "      <td>2.848070e+05</td>\n",
       "      <td>2.848070e+05</td>\n",
       "      <td>2.848070e+05</td>\n",
       "      <td>2.848070e+05</td>\n",
       "      <td>2.848070e+05</td>\n",
       "      <td>...</td>\n",
       "      <td>2.848070e+05</td>\n",
       "      <td>2.848070e+05</td>\n",
       "      <td>2.848070e+05</td>\n",
       "      <td>2.848070e+05</td>\n",
       "      <td>2.848070e+05</td>\n",
       "      <td>2.848070e+05</td>\n",
       "      <td>2.848070e+05</td>\n",
       "      <td>2.848070e+05</td>\n",
       "      <td>284807.000000</td>\n",
       "      <td>284807.000000</td>\n",
       "    </tr>\n",
       "    <tr>\n",
       "      <th>mean</th>\n",
       "      <td>94813.859575</td>\n",
       "      <td>1.168375e-15</td>\n",
       "      <td>3.416908e-16</td>\n",
       "      <td>-1.379537e-15</td>\n",
       "      <td>2.074095e-15</td>\n",
       "      <td>9.604066e-16</td>\n",
       "      <td>1.487313e-15</td>\n",
       "      <td>-5.556467e-16</td>\n",
       "      <td>1.213481e-16</td>\n",
       "      <td>-2.406331e-15</td>\n",
       "      <td>...</td>\n",
       "      <td>1.654067e-16</td>\n",
       "      <td>-3.568593e-16</td>\n",
       "      <td>2.578648e-16</td>\n",
       "      <td>4.473266e-15</td>\n",
       "      <td>5.340915e-16</td>\n",
       "      <td>1.683437e-15</td>\n",
       "      <td>-3.660091e-16</td>\n",
       "      <td>-1.227390e-16</td>\n",
       "      <td>88.349619</td>\n",
       "      <td>0.001727</td>\n",
       "    </tr>\n",
       "    <tr>\n",
       "      <th>std</th>\n",
       "      <td>47488.145955</td>\n",
       "      <td>1.958696e+00</td>\n",
       "      <td>1.651309e+00</td>\n",
       "      <td>1.516255e+00</td>\n",
       "      <td>1.415869e+00</td>\n",
       "      <td>1.380247e+00</td>\n",
       "      <td>1.332271e+00</td>\n",
       "      <td>1.237094e+00</td>\n",
       "      <td>1.194353e+00</td>\n",
       "      <td>1.098632e+00</td>\n",
       "      <td>...</td>\n",
       "      <td>7.345240e-01</td>\n",
       "      <td>7.257016e-01</td>\n",
       "      <td>6.244603e-01</td>\n",
       "      <td>6.056471e-01</td>\n",
       "      <td>5.212781e-01</td>\n",
       "      <td>4.822270e-01</td>\n",
       "      <td>4.036325e-01</td>\n",
       "      <td>3.300833e-01</td>\n",
       "      <td>250.120109</td>\n",
       "      <td>0.041527</td>\n",
       "    </tr>\n",
       "    <tr>\n",
       "      <th>min</th>\n",
       "      <td>0.000000</td>\n",
       "      <td>-5.640751e+01</td>\n",
       "      <td>-7.271573e+01</td>\n",
       "      <td>-4.832559e+01</td>\n",
       "      <td>-5.683171e+00</td>\n",
       "      <td>-1.137433e+02</td>\n",
       "      <td>-2.616051e+01</td>\n",
       "      <td>-4.355724e+01</td>\n",
       "      <td>-7.321672e+01</td>\n",
       "      <td>-1.343407e+01</td>\n",
       "      <td>...</td>\n",
       "      <td>-3.483038e+01</td>\n",
       "      <td>-1.093314e+01</td>\n",
       "      <td>-4.480774e+01</td>\n",
       "      <td>-2.836627e+00</td>\n",
       "      <td>-1.029540e+01</td>\n",
       "      <td>-2.604551e+00</td>\n",
       "      <td>-2.256568e+01</td>\n",
       "      <td>-1.543008e+01</td>\n",
       "      <td>0.000000</td>\n",
       "      <td>0.000000</td>\n",
       "    </tr>\n",
       "    <tr>\n",
       "      <th>25%</th>\n",
       "      <td>54201.500000</td>\n",
       "      <td>-9.203734e-01</td>\n",
       "      <td>-5.985499e-01</td>\n",
       "      <td>-8.903648e-01</td>\n",
       "      <td>-8.486401e-01</td>\n",
       "      <td>-6.915971e-01</td>\n",
       "      <td>-7.682956e-01</td>\n",
       "      <td>-5.540759e-01</td>\n",
       "      <td>-2.086297e-01</td>\n",
       "      <td>-6.430976e-01</td>\n",
       "      <td>...</td>\n",
       "      <td>-2.283949e-01</td>\n",
       "      <td>-5.423504e-01</td>\n",
       "      <td>-1.618463e-01</td>\n",
       "      <td>-3.545861e-01</td>\n",
       "      <td>-3.171451e-01</td>\n",
       "      <td>-3.269839e-01</td>\n",
       "      <td>-7.083953e-02</td>\n",
       "      <td>-5.295979e-02</td>\n",
       "      <td>5.600000</td>\n",
       "      <td>0.000000</td>\n",
       "    </tr>\n",
       "    <tr>\n",
       "      <th>50%</th>\n",
       "      <td>84692.000000</td>\n",
       "      <td>1.810880e-02</td>\n",
       "      <td>6.548556e-02</td>\n",
       "      <td>1.798463e-01</td>\n",
       "      <td>-1.984653e-02</td>\n",
       "      <td>-5.433583e-02</td>\n",
       "      <td>-2.741871e-01</td>\n",
       "      <td>4.010308e-02</td>\n",
       "      <td>2.235804e-02</td>\n",
       "      <td>-5.142873e-02</td>\n",
       "      <td>...</td>\n",
       "      <td>-2.945017e-02</td>\n",
       "      <td>6.781943e-03</td>\n",
       "      <td>-1.119293e-02</td>\n",
       "      <td>4.097606e-02</td>\n",
       "      <td>1.659350e-02</td>\n",
       "      <td>-5.213911e-02</td>\n",
       "      <td>1.342146e-03</td>\n",
       "      <td>1.124383e-02</td>\n",
       "      <td>22.000000</td>\n",
       "      <td>0.000000</td>\n",
       "    </tr>\n",
       "    <tr>\n",
       "      <th>75%</th>\n",
       "      <td>139320.500000</td>\n",
       "      <td>1.315642e+00</td>\n",
       "      <td>8.037239e-01</td>\n",
       "      <td>1.027196e+00</td>\n",
       "      <td>7.433413e-01</td>\n",
       "      <td>6.119264e-01</td>\n",
       "      <td>3.985649e-01</td>\n",
       "      <td>5.704361e-01</td>\n",
       "      <td>3.273459e-01</td>\n",
       "      <td>5.971390e-01</td>\n",
       "      <td>...</td>\n",
       "      <td>1.863772e-01</td>\n",
       "      <td>5.285536e-01</td>\n",
       "      <td>1.476421e-01</td>\n",
       "      <td>4.395266e-01</td>\n",
       "      <td>3.507156e-01</td>\n",
       "      <td>2.409522e-01</td>\n",
       "      <td>9.104512e-02</td>\n",
       "      <td>7.827995e-02</td>\n",
       "      <td>77.165000</td>\n",
       "      <td>0.000000</td>\n",
       "    </tr>\n",
       "    <tr>\n",
       "      <th>max</th>\n",
       "      <td>172792.000000</td>\n",
       "      <td>2.454930e+00</td>\n",
       "      <td>2.205773e+01</td>\n",
       "      <td>9.382558e+00</td>\n",
       "      <td>1.687534e+01</td>\n",
       "      <td>3.480167e+01</td>\n",
       "      <td>7.330163e+01</td>\n",
       "      <td>1.205895e+02</td>\n",
       "      <td>2.000721e+01</td>\n",
       "      <td>1.559499e+01</td>\n",
       "      <td>...</td>\n",
       "      <td>2.720284e+01</td>\n",
       "      <td>1.050309e+01</td>\n",
       "      <td>2.252841e+01</td>\n",
       "      <td>4.584549e+00</td>\n",
       "      <td>7.519589e+00</td>\n",
       "      <td>3.517346e+00</td>\n",
       "      <td>3.161220e+01</td>\n",
       "      <td>3.384781e+01</td>\n",
       "      <td>25691.160000</td>\n",
       "      <td>1.000000</td>\n",
       "    </tr>\n",
       "  </tbody>\n",
       "</table>\n",
       "<p>8 rows × 31 columns</p>\n",
       "</div>"
      ],
      "text/plain": [
       "                Time            V1            V2            V3            V4  \\\n",
       "count  284807.000000  2.848070e+05  2.848070e+05  2.848070e+05  2.848070e+05   \n",
       "mean    94813.859575  1.168375e-15  3.416908e-16 -1.379537e-15  2.074095e-15   \n",
       "std     47488.145955  1.958696e+00  1.651309e+00  1.516255e+00  1.415869e+00   \n",
       "min         0.000000 -5.640751e+01 -7.271573e+01 -4.832559e+01 -5.683171e+00   \n",
       "25%     54201.500000 -9.203734e-01 -5.985499e-01 -8.903648e-01 -8.486401e-01   \n",
       "50%     84692.000000  1.810880e-02  6.548556e-02  1.798463e-01 -1.984653e-02   \n",
       "75%    139320.500000  1.315642e+00  8.037239e-01  1.027196e+00  7.433413e-01   \n",
       "max    172792.000000  2.454930e+00  2.205773e+01  9.382558e+00  1.687534e+01   \n",
       "\n",
       "                 V5            V6            V7            V8            V9  \\\n",
       "count  2.848070e+05  2.848070e+05  2.848070e+05  2.848070e+05  2.848070e+05   \n",
       "mean   9.604066e-16  1.487313e-15 -5.556467e-16  1.213481e-16 -2.406331e-15   \n",
       "std    1.380247e+00  1.332271e+00  1.237094e+00  1.194353e+00  1.098632e+00   \n",
       "min   -1.137433e+02 -2.616051e+01 -4.355724e+01 -7.321672e+01 -1.343407e+01   \n",
       "25%   -6.915971e-01 -7.682956e-01 -5.540759e-01 -2.086297e-01 -6.430976e-01   \n",
       "50%   -5.433583e-02 -2.741871e-01  4.010308e-02  2.235804e-02 -5.142873e-02   \n",
       "75%    6.119264e-01  3.985649e-01  5.704361e-01  3.273459e-01  5.971390e-01   \n",
       "max    3.480167e+01  7.330163e+01  1.205895e+02  2.000721e+01  1.559499e+01   \n",
       "\n",
       "       ...           V21           V22           V23           V24  \\\n",
       "count  ...  2.848070e+05  2.848070e+05  2.848070e+05  2.848070e+05   \n",
       "mean   ...  1.654067e-16 -3.568593e-16  2.578648e-16  4.473266e-15   \n",
       "std    ...  7.345240e-01  7.257016e-01  6.244603e-01  6.056471e-01   \n",
       "min    ... -3.483038e+01 -1.093314e+01 -4.480774e+01 -2.836627e+00   \n",
       "25%    ... -2.283949e-01 -5.423504e-01 -1.618463e-01 -3.545861e-01   \n",
       "50%    ... -2.945017e-02  6.781943e-03 -1.119293e-02  4.097606e-02   \n",
       "75%    ...  1.863772e-01  5.285536e-01  1.476421e-01  4.395266e-01   \n",
       "max    ...  2.720284e+01  1.050309e+01  2.252841e+01  4.584549e+00   \n",
       "\n",
       "                V25           V26           V27           V28         Amount  \\\n",
       "count  2.848070e+05  2.848070e+05  2.848070e+05  2.848070e+05  284807.000000   \n",
       "mean   5.340915e-16  1.683437e-15 -3.660091e-16 -1.227390e-16      88.349619   \n",
       "std    5.212781e-01  4.822270e-01  4.036325e-01  3.300833e-01     250.120109   \n",
       "min   -1.029540e+01 -2.604551e+00 -2.256568e+01 -1.543008e+01       0.000000   \n",
       "25%   -3.171451e-01 -3.269839e-01 -7.083953e-02 -5.295979e-02       5.600000   \n",
       "50%    1.659350e-02 -5.213911e-02  1.342146e-03  1.124383e-02      22.000000   \n",
       "75%    3.507156e-01  2.409522e-01  9.104512e-02  7.827995e-02      77.165000   \n",
       "max    7.519589e+00  3.517346e+00  3.161220e+01  3.384781e+01   25691.160000   \n",
       "\n",
       "               Class  \n",
       "count  284807.000000  \n",
       "mean        0.001727  \n",
       "std         0.041527  \n",
       "min         0.000000  \n",
       "25%         0.000000  \n",
       "50%         0.000000  \n",
       "75%         0.000000  \n",
       "max         1.000000  \n",
       "\n",
       "[8 rows x 31 columns]"
      ]
     },
     "execution_count": 4,
     "metadata": {},
     "output_type": "execute_result"
    }
   ],
   "source": [
    "df.describe()"
   ]
  },
  {
   "cell_type": "code",
   "execution_count": 5,
   "id": "35c3fcc2",
   "metadata": {
    "execution": {
     "iopub.execute_input": "2024-09-05T09:19:16.450028Z",
     "iopub.status.busy": "2024-09-05T09:19:16.449575Z",
     "iopub.status.idle": "2024-09-05T09:19:18.477675Z",
     "shell.execute_reply": "2024-09-05T09:19:18.476305Z"
    },
    "papermill": {
     "duration": 2.038802,
     "end_time": "2024-09-05T09:19:18.480217",
     "exception": false,
     "start_time": "2024-09-05T09:19:16.441415",
     "status": "completed"
    },
    "tags": []
   },
   "outputs": [
    {
     "data": {
      "image/png": "[encoded data removed]",
      "text/plain": [
       "<Figure size 600x400 with 1 Axes>"
      ]
     },
     "metadata": {},
     "output_type": "display_data"
    }
   ],
   "source": [
    "# class distribution\n",
    "import seaborn as sns\n",
    "import matplotlib.pyplot as plt\n",
    "plt.figure(figsize=(6,4)) #sets a figure size\n",
    "sns.countplot(x='Class', data=df) #Seaborn function used to create a count plot. \n",
    "plt.title('Class Distribution')\n",
    "plt.show()"
   ]
  },
  {
   "cell_type": "code",
   "execution_count": 6,
   "id": "72942130",
   "metadata": {
    "execution": {
     "iopub.execute_input": "2024-09-05T09:19:18.498210Z",
     "iopub.status.busy": "2024-09-05T09:19:18.496735Z",
     "iopub.status.idle": "2024-09-05T09:19:18.511894Z",
     "shell.execute_reply": "2024-09-05T09:19:18.510533Z"
    },
    "papermill": {
     "duration": 0.026519,
     "end_time": "2024-09-05T09:19:18.514473",
     "exception": false,
     "start_time": "2024-09-05T09:19:18.487954",
     "status": "completed"
    },
    "tags": []
   },
   "outputs": [
    {
     "name": "stdout",
     "output_type": "stream",
     "text": [
      "Class\n",
      "0    284315\n",
      "1       492\n",
      "Name: count, dtype: int64\n"
     ]
    },
    {
     "data": {
      "text/plain": [
       "(284807, 31)"
      ]
     },
     "execution_count": 6,
     "metadata": {},
     "output_type": "execute_result"
    }
   ],
   "source": [
    "print(df['Class'].value_counts())\n",
    "df.shape"
   ]
  },
  {
   "cell_type": "code",
   "execution_count": 7,
   "id": "f53e5b7e",
   "metadata": {
    "execution": {
     "iopub.execute_input": "2024-09-05T09:19:18.531397Z",
     "iopub.status.busy": "2024-09-05T09:19:18.530493Z",
     "iopub.status.idle": "2024-09-05T09:19:18.540537Z",
     "shell.execute_reply": "2024-09-05T09:19:18.539395Z"
    },
    "papermill": {
     "duration": 0.021958,
     "end_time": "2024-09-05T09:19:18.543896",
     "exception": false,
     "start_time": "2024-09-05T09:19:18.521938",
     "status": "completed"
    },
    "tags": []
   },
   "outputs": [
    {
     "name": "stdout",
     "output_type": "stream",
     "text": [
      "Fraudalent transactions:0.1727%\n"
     ]
    }
   ],
   "source": [
    "# percentage of the fraud detected\n",
    "fraud_percentage = df['Class'].value_counts(normalize=True)*100\n",
    "print(f\"Fraudalent transactions:{fraud_percentage[1]:.4f}%\")"
   ]
  },
  {
   "cell_type": "code",
   "execution_count": 8,
   "id": "a27b0f9f",
   "metadata": {
    "execution": {
     "iopub.execute_input": "2024-09-05T09:19:18.560688Z",
     "iopub.status.busy": "2024-09-05T09:19:18.560237Z",
     "iopub.status.idle": "2024-09-05T09:19:21.833377Z",
     "shell.execute_reply": "2024-09-05T09:19:21.832120Z"
    },
    "papermill": {
     "duration": 3.284754,
     "end_time": "2024-09-05T09:19:21.835950",
     "exception": false,
     "start_time": "2024-09-05T09:19:18.551196",
     "status": "completed"
    },
    "tags": []
   },
   "outputs": [
    {
     "name": "stderr",
     "output_type": "stream",
     "text": [
      "/opt/conda/lib/python3.10/site-packages/seaborn/_oldcore.py:1119: FutureWarning: use_inf_as_na option is deprecated and will be removed in a future version. Convert inf values to NaN before operating instead.\n",
      "  with pd.option_context('mode.use_inf_as_na', True):\n"
     ]
    },
    {
     "data": {
      "image/png": "[encoded data removed]",
      "text/plain": [
       "<Figure size 600x400 with 1 Axes>"
      ]
     },
     "metadata": {},
     "output_type": "display_data"
    },
    {
     "name": "stderr",
     "output_type": "stream",
     "text": [
      "/opt/conda/lib/python3.10/site-packages/seaborn/_oldcore.py:1119: FutureWarning: use_inf_as_na option is deprecated and will be removed in a future version. Convert inf values to NaN before operating instead.\n",
      "  with pd.option_context('mode.use_inf_as_na', True):\n"
     ]
    },
    {
     "data": {
      "image/png": "[encoded data removed]",
      "text/plain": [
       "<Figure size 600x400 with 1 Axes>"
      ]
     },
     "metadata": {},
     "output_type": "display_data"
    }
   ],
   "source": [
    "\n",
    "\n",
    "# Plot distribution of 'Amount'\n",
    "plt.figure(figsize=(6, 4))\n",
    "sns.histplot(df['Amount'], bins=50, kde=True)\n",
    "plt.title('Transaction Amount Distribution')\n",
    "plt.show()\n",
    "\n",
    "# Plot distribution of 'Time'\n",
    "plt.figure(figsize=(6, 4))\n",
    "sns.histplot(df['Time'], bins=50, kde=True)\n",
    "plt.title('Transaction Time Distribution')\n",
    "plt.show()\n"
   ]
  },
  {
   "cell_type": "code",
   "execution_count": 9,
   "id": "0f95137b",
   "metadata": {
    "execution": {
     "iopub.execute_input": "2024-09-05T09:19:21.854565Z",
     "iopub.status.busy": "2024-09-05T09:19:21.854180Z",
     "iopub.status.idle": "2024-09-05T09:19:23.435752Z",
     "shell.execute_reply": "2024-09-05T09:19:23.434466Z"
    },
    "papermill": {
     "duration": 1.593763,
     "end_time": "2024-09-05T09:19:23.438194",
     "exception": false,
     "start_time": "2024-09-05T09:19:21.844431",
     "status": "completed"
    },
    "tags": []
   },
   "outputs": [
    {
     "data": {
      "image/png": "[encoded data removed]",
      "text/plain": [
       "<Figure size 2000x1500 with 2 Axes>"
      ]
     },
     "metadata": {},
     "output_type": "display_data"
    }
   ],
   "source": [
    "# Correlation heatmap of all features\n",
    "plt.figure(figsize=(20, 15))\n",
    "sns.heatmap(df.corr(), cmap='coolwarm_r', annot=False)\n",
    "plt.title('Correlation Heatmap')\n",
    "plt.show()\n"
   ]
  },
  {
   "cell_type": "markdown",
   "id": "0048ef52",
   "metadata": {
    "papermill": {
     "duration": 0.009023,
     "end_time": "2024-09-05T09:19:23.456642",
     "exception": false,
     "start_time": "2024-09-05T09:19:23.447619",
     "status": "completed"
    },
    "tags": []
   },
   "source": [
    "# **Data Preprocessing**"
   ]
  },
  {
   "cell_type": "markdown",
   "id": "15cd4b87",
   "metadata": {
    "papermill": {
     "duration": 0.009056,
     "end_time": "2024-09-05T09:19:23.475097",
     "exception": false,
     "start_time": "2024-09-05T09:19:23.466041",
     "status": "completed"
    },
    "tags": []
   },
   "source": [
    "**sm = SMOTE(random_state=42)**\n",
    "\n",
    "*SMOTE* is a technique used to address class imbalance in datasets, where one class has significantly fewer samples than the other.\n",
    "\n",
    "**random_state=42** sets random seed to SMOTE Algorithm.\n",
    "\n",
    "**sm.fit_resample**: This method from the SMOTE object is used to apply the SMOTE algorithm to the training data.\n",
    "\n",
    "The resulting X_train_res and y_train_res contain the original and synthetic samples, respectively.\n",
    "\n",
    "This balanced training data can then be used to train a machine learning model that is less biased towards the majority class and more capable of handling imbalanced datasets.\n"
   ]
  },
  {
   "cell_type": "code",
   "execution_count": 10,
   "id": "8b4a1e1f",
   "metadata": {
    "execution": {
     "iopub.execute_input": "2024-09-05T09:19:23.496741Z",
     "iopub.status.busy": "2024-09-05T09:19:23.495846Z",
     "iopub.status.idle": "2024-09-05T09:19:24.931900Z",
     "shell.execute_reply": "2024-09-05T09:19:24.930508Z"
    },
    "papermill": {
     "duration": 1.449822,
     "end_time": "2024-09-05T09:19:24.934303",
     "exception": false,
     "start_time": "2024-09-05T09:19:23.484481",
     "status": "completed"
    },
    "tags": []
   },
   "outputs": [
    {
     "name": "stdout",
     "output_type": "stream",
     "text": [
      "Resampled training set shape: (398016, 30)\n",
      "Resampled class distribution:\n",
      "Class\n",
      "0    199008\n",
      "1    199008\n",
      "Name: count, dtype: int64\n"
     ]
    }
   ],
   "source": [
    "# handling class inbalance with SMOTE\n",
    "\n",
    "# separate features and target variable \n",
    "X = df.drop('Class', axis=1)\n",
    "y = df['Class']\n",
    "\n",
    "#import library\n",
    "from sklearn.model_selection import train_test_split\n",
    "from imblearn.over_sampling import SMOTE\n",
    "\n",
    "# split the data into training and the test set\n",
    "X_train, X_test, y_train, y_test = train_test_split(X, y, test_size=0.3, random_state=42)\n",
    "\n",
    "# Apply SMOTE to handle class imbalance\n",
    "sm = SMOTE(random_state=42)\n",
    "X_train_res, y_train_res = sm.fit_resample(X_train, y_train)\n",
    "\n",
    "# Display the shape of the resampled dataset\n",
    "print(f\"Resampled training set shape: {X_train_res.shape}\")\n",
    "print(f\"Resampled class distribution:\\n{y_train_res.value_counts()}\")"
   ]
  },
  {
   "cell_type": "markdown",
   "id": "8948613a",
   "metadata": {
    "papermill": {
     "duration": 0.009168,
     "end_time": "2024-09-05T09:19:24.952873",
     "exception": false,
     "start_time": "2024-09-05T09:19:24.943705",
     "status": "completed"
    },
    "tags": []
   },
   "source": [
    "# **Feature scaling**"
   ]
  },
  {
   "cell_type": "markdown",
   "id": "99c42675",
   "metadata": {
    "papermill": {
     "duration": 0.010031,
     "end_time": "2024-09-05T09:19:24.973034",
     "exception": false,
     "start_time": "2024-09-05T09:19:24.963003",
     "status": "completed"
    },
    "tags": []
   },
   "source": [
    "**Standardization** is a common preprocessing step in machine learning to ensure that features have a mean of 0 and a standard deviation of 1. This helps prevent features with larger magnitudes from dominating the learning process.\n",
    "\n",
    "The StandardScaler class from scikit-learn provides a convenient way to perform standardization.\n",
    "\n",
    "The **fit_transform method** is used on the training data to learn the standardization parameters and apply them to the data.\n",
    "\n",
    "The **transform method** is used on the testing data to apply the learned parameters without refitting the scaler"
   ]
  },
  {
   "cell_type": "code",
   "execution_count": 11,
   "id": "88a2314d",
   "metadata": {
    "execution": {
     "iopub.execute_input": "2024-09-05T09:19:24.994572Z",
     "iopub.status.busy": "2024-09-05T09:19:24.993959Z",
     "iopub.status.idle": "2024-09-05T09:19:25.031160Z",
     "shell.execute_reply": "2024-09-05T09:19:25.030002Z"
    },
    "papermill": {
     "duration": 0.05117,
     "end_time": "2024-09-05T09:19:25.033928",
     "exception": false,
     "start_time": "2024-09-05T09:19:24.982758",
     "status": "completed"
    },
    "tags": []
   },
   "outputs": [],
   "source": [
    "from sklearn.preprocessing import StandardScaler\n",
    "\n",
    "# Standardize the 'Amount' and 'Time' features\n",
    "scaler = StandardScaler()\n",
    "X_train_res[['Time', 'Amount']] = scaler.fit_transform(X_train_res[['Time', 'Amount']])\n",
    "X_test[['Time', 'Amount']] = scaler.transform(X_test[['Time', 'Amount']])\n"
   ]
  },
  {
   "cell_type": "markdown",
   "id": "7ad1b793",
   "metadata": {
    "papermill": {
     "duration": 0.009184,
     "end_time": "2024-09-05T09:19:25.053219",
     "exception": false,
     "start_time": "2024-09-05T09:19:25.044035",
     "status": "completed"
    },
    "tags": []
   },
   "source": [
    "#  **Model training**"
   ]
  },
  {
   "cell_type": "markdown",
   "id": "b572280e",
   "metadata": {
    "papermill": {
     "duration": 0.009959,
     "end_time": "2024-09-05T09:19:25.073093",
     "exception": false,
     "start_time": "2024-09-05T09:19:25.063134",
     "status": "completed"
    },
    "tags": []
   },
   "source": [
    "**Random Forest Classifier**:\n",
    "\n",
    "A powerful ensemble learning algorithm that combines multiple decision trees to make predictions.\n",
    "\n",
    "Each decision tree in the forest is trained on a random subset of the data and features, promoting diversity and reducing overfitting.\n",
    "\n",
    "The final prediction is made by aggregating the predictions from all trees, often through majority voting or averaging.\n",
    "\n",
    "**Hyperparameter Tuning**:\n",
    "\n",
    "*n_estimators*: Number of trees in the forest.\n",
    "\n",
    "*max_depth*: Maximum depth of each tree.\n",
    "\n",
    "*max_features*: Number of features considered at each split.\n",
    "\n",
    "*min_samples_split*: Minimum number of samples required to split an internal node.\n",
    "\n",
    "*min_samples_leaf*: Minimum number of samples required to be at a leaf node.   \n",
    "\n",
    "Hyperparameter tuning can significantly improve the performance of a Random Forest Classifier."
   ]
  },
  {
   "cell_type": "code",
   "execution_count": 12,
   "id": "d2fd34d0",
   "metadata": {
    "execution": {
     "iopub.execute_input": "2024-09-05T09:19:25.094403Z",
     "iopub.status.busy": "2024-09-05T09:19:25.094012Z",
     "iopub.status.idle": "2024-09-05T09:27:05.414088Z",
     "shell.execute_reply": "2024-09-05T09:27:05.412824Z"
    },
    "papermill": {
     "duration": 460.334001,
     "end_time": "2024-09-05T09:27:05.416936",
     "exception": false,
     "start_time": "2024-09-05T09:19:25.082935",
     "status": "completed"
    },
    "tags": []
   },
   "outputs": [],
   "source": [
    "from sklearn.ensemble import RandomForestClassifier\n",
    "# Initialize the Random Forest model\n",
    "model = RandomForestClassifier(random_state=42, n_estimators=100)\n",
    "\n",
    "# Train the model on the resampled training data\n",
    "model.fit(X_train_res, y_train_res)\n",
    "\n",
    "# Make predictions on the test set\n",
    "y_pred = model.predict(X_test)\n"
   ]
  },
  {
   "cell_type": "markdown",
   "id": "7cbc236d",
   "metadata": {
    "papermill": {
     "duration": 0.009096,
     "end_time": "2024-09-05T09:27:05.435769",
     "exception": false,
     "start_time": "2024-09-05T09:27:05.426673",
     "status": "completed"
    },
    "tags": []
   },
   "source": [
    "# **Model Evaluation**"
   ]
  },
  {
   "cell_type": "code",
   "execution_count": 13,
   "id": "5cb876f9",
   "metadata": {
    "execution": {
     "iopub.execute_input": "2024-09-05T09:27:05.456489Z",
     "iopub.status.busy": "2024-09-05T09:27:05.456071Z",
     "iopub.status.idle": "2024-09-05T09:27:05.871167Z",
     "shell.execute_reply": "2024-09-05T09:27:05.869817Z"
    },
    "papermill": {
     "duration": 0.428333,
     "end_time": "2024-09-05T09:27:05.873673",
     "exception": false,
     "start_time": "2024-09-05T09:27:05.445340",
     "status": "completed"
    },
    "tags": []
   },
   "outputs": [
    {
     "data": {
      "image/png": "[encoded data removed]",
      "text/plain": [
       "<Figure size 600x400 with 2 Axes>"
      ]
     },
     "metadata": {},
     "output_type": "display_data"
    },
    {
     "name": "stdout",
     "output_type": "stream",
     "text": [
      "              precision    recall  f1-score   support\n",
      "\n",
      "           0       1.00      1.00      1.00     85307\n",
      "           1       0.83      0.88      0.85       136\n",
      "\n",
      "    accuracy                           1.00     85443\n",
      "   macro avg       0.92      0.94      0.93     85443\n",
      "weighted avg       1.00      1.00      1.00     85443\n",
      "\n"
     ]
    }
   ],
   "source": [
    "from sklearn.metrics import classification_report, confusion_matrix, roc_auc_score, roc_curve\n",
    "\n",
    "# Confusion Matrix\n",
    "\n",
    "conf_matrix = confusion_matrix(y_test,y_pred)\n",
    "plt.figure(figsize=(6,4))\n",
    "sns.heatmap(conf_matrix, annot=True, fmt='d',cmap='Blues')\n",
    "plt.title('Confusion Matrix')\n",
    "plt.ylabel('Actual Label')\n",
    "plt.xlabel('Preducted Label')\n",
    "plt.show()\n",
    "\n",
    "# Classification Report\n",
    "print(classification_report(y_test,y_pred))"
   ]
  },
  {
   "cell_type": "code",
   "execution_count": 14,
   "id": "b4aa1b0b",
   "metadata": {
    "execution": {
     "iopub.execute_input": "2024-09-05T09:27:05.895362Z",
     "iopub.status.busy": "2024-09-05T09:27:05.894947Z",
     "iopub.status.idle": "2024-09-05T09:27:07.264991Z",
     "shell.execute_reply": "2024-09-05T09:27:07.263717Z"
    },
    "papermill": {
     "duration": 1.383851,
     "end_time": "2024-09-05T09:27:07.267515",
     "exception": false,
     "start_time": "2024-09-05T09:27:05.883664",
     "status": "completed"
    },
    "tags": []
   },
   "outputs": [
    {
     "name": "stdout",
     "output_type": "stream",
     "text": [
      "ROC-AUC Score: 0.9768\n"
     ]
    },
    {
     "data": {
      "image/png": "[encoded data removed]",
      "text/plain": [
       "<Figure size 600x400 with 1 Axes>"
      ]
     },
     "metadata": {},
     "output_type": "display_data"
    }
   ],
   "source": [
    "# Calculate ROC-AUC score\n",
    "y_pred_prob = model.predict_proba(X_test)[:, 1]\n",
    "roc_auc = roc_auc_score(y_test, y_pred_prob)\n",
    "print(f\"ROC-AUC Score: {roc_auc:.4f}\")\n",
    "\n",
    "# Plot ROC Curve\n",
    "fpr, tpr, _ = roc_curve(y_test, y_pred_prob)\n",
    "plt.figure(figsize=(6, 4))\n",
    "plt.plot(fpr, tpr, color='orange', label=f'ROC Curve (area = {roc_auc:.4f})')\n",
    "plt.plot([0, 1], [0, 1], color='darkblue', linestyle='--')\n",
    "plt.xlabel('False Positive Rate')\n",
    "plt.ylabel('True Positive Rate')\n",
    "plt.title('ROC Curve')\n",
    "plt.legend()\n",
    "plt.show()"
   ]
  },
  {
   "cell_type": "markdown",
   "id": "d97a3ae0",
   "metadata": {
    "papermill": {
     "duration": 0.010828,
     "end_time": "2024-09-05T09:27:07.289260",
     "exception": false,
     "start_time": "2024-09-05T09:27:07.278432",
     "status": "completed"
    },
    "tags": []
   },
   "source": [
    "# **Interpretation**\n",
    "**Analysis of Confusion Matrix vs. Classification Report**:\n",
    "\n",
    "*Performance for Class 0 (Legitimate Transactions)*:\n",
    "\n",
    "The confusion matrix shows that the model classified 85,283 legitimate transactions correctly and made only 24 mistakes, meaning that 24 legitimate transactions were incorrectly flagged as fraud (false positives).\n",
    "\n",
    "In the classification report, this translates to precision, recall, and F1-scores of 1.00, indicating that the model is nearly perfect at detecting legitimate transactions.\n",
    "\n",
    "This is expected since Class 0 (legitimate transactions) dominates the dataset.\n",
    "\n",
    "*Performance for Class 1 (Fraudulent Transactions)*:\n",
    "\n",
    "The confusion matrix shows that the model identified 119 fraudulent transactions correctly, but it missed 17 fraudulent transactions (false negatives).\n",
    "The classification report shows a precision of 0.83 and a recall of 0.88 for Class 1 (fraud), which reflects the fact that:\n",
    "\n",
    "Precision: Out of the transactions labeled as fraudulent, 83% were indeed frauds (the other 17% were false positives).\n",
    "\n",
    "Recall: The model caught 88% of all fraudulent transactions, but 12% (17 frauds) were missed.\n",
    "\n",
    "**Macro and Weighted Averages**:\n",
    "\n",
    "Macro avg: This is the average of precision, recall, and F1-score across both classes, giving equal weight to both legitimate and fraudulent transactions. It helps summarize how well the model is performing across the two classes without biasing towards the larger class (Class 0).\n",
    "\n",
    "Macro avg precision = 0.92\n",
    "\n",
    "Macro avg recall = 0.94\n",
    "\n",
    "Macro avg F1-score = 0.93\n",
    "\n",
    "Weighted avg: This takes into account the number of instances in each class, which is why it's close to 1.00, because Class 0 (legitimate transactions) dominates the dataset. This is a bit misleading, so it's better to focus on the macro average or performance of Class 1 (fraudulent transactions) for more balanced insight.\n",
    "\n",
    "**ROC-AUC Score**:\n",
    "\n",
    "The ROC-AUC score of 0.9768 is quite high, indicating that the model is doing a great job distinguishing between legitimate and fraudulent transactions. This score reflects the model's performance across all thresholds, combining both precision and recall.\n",
    "\n",
    "It provides a good balance and suggests that, in general, the model is very capable of separating the two classes.\n",
    "\n"
   ]
  },
  {
   "cell_type": "markdown",
   "id": "b904b366",
   "metadata": {
    "papermill": {
     "duration": 0.010485,
     "end_time": "2024-09-05T09:27:07.310591",
     "exception": false,
     "start_time": "2024-09-05T09:27:07.300106",
     "status": "completed"
    },
    "tags": []
   },
   "source": [
    "# **Further Strategy**\n",
    "\n",
    "1. **Focus on Fraud Detection (Class 1 Performance)**:\n",
    "   \n",
    "False Negatives (Missed Frauds):\n",
    "\n",
    "The model missed 17 frauds (false negatives), which is a key area for improvement. While 88% recall is good, minimizing missed frauds is crucial.\n",
    "\n",
    "A high false negative rate in fraud detection could lead to financial losses. We can increase recall even at the expense of some precision (meaning accepting more false positives).\n",
    "\n",
    "**Precision vs. Recall Tradeoff**:\n",
    "\n",
    "Right now, precision = 0.83 and recall = 0.88. Depending on the business context (the cost of a missed fraud vs. the cost of falsely flagging legitimate transactions), we can adjust the classification threshold to increase recall (catch more frauds), even if that reduces precision a bit (results in more false positives).\n",
    "\n",
    "2. **Threshold Tuning**:\n",
    "By default, most classification models use a threshold of 0.5 to classify a transaction as fraudulent (Class 1).  Adjust this threshold to increase sensitivity to fraud (maximize recall).\n",
    "\n",
    "For example, if the threshold is lowered to 0.4 or 0.3, the model would flag more transactions as fraud, thus catching more fraudulent cases at the cost of more false positives.\n"
   ]
  },
  {
   "cell_type": "code",
   "execution_count": null,
   "id": "e78cdf16",
   "metadata": {
    "papermill": {
     "duration": 0.010394,
     "end_time": "2024-09-05T09:27:07.331784",
     "exception": false,
     "start_time": "2024-09-05T09:27:07.321390",
     "status": "completed"
    },
    "tags": []
   },
   "outputs": [],
   "source": []
  }
 ],
 "metadata": {
  "kaggle": {
   "accelerator": "none",
   "dataSources": [
    {
     "datasetId": 310,
     "sourceId": 23498,
     "sourceType": "datasetVersion"
    }
   ],
   "dockerImageVersionId": 30761,
   "isGpuEnabled": false,
   "isInternetEnabled": false,
   "language": "python",
   "sourceType": "notebook"
  },
  "kernelspec": {
   "display_name": "Python 3",
   "language": "python",
   "name": "python3"
  },
  "language_info": {
   "codemirror_mode": {
    "name": "ipython",
    "version": 3
   },
   "file_extension": ".py",
   "mimetype": "text/x-python",
   "name": "python",
   "nbconvert_exporter": "python",
   "pygments_lexer": "ipython3",
   "version": "3.10.14"
  },
  "papermill": {
   "default_parameters": {},
   "duration": 479.492713,
   "end_time": "2024-09-05T09:27:08.064532",
   "environment_variables": {},
   "exception": null,
   "input_path": "__notebook__.ipynb",
   "output_path": "__notebook__.ipynb",
   "parameters": {},
   "start_time": "2024-09-05T09:19:08.571819",
   "version": "2.6.0"
  }
 },
 "nbformat": 4,
 "nbformat_minor": 5
}
